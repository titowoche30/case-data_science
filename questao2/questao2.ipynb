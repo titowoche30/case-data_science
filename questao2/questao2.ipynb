{
 "cells": [
  {
   "cell_type": "markdown",
   "metadata": {},
   "source": [
    "# Objetivo:\n",
    "Prever o pagamento próxima fatura dos seus clientes e criação de estratégias de comunicação para clientes que tivessem alta\n",
    "probabilidade de não pagar as suas proximas faturas.\n"
   ]
  },
  {
   "cell_type": "markdown",
   "metadata": {},
   "source": [
    "# Q 2.1 - Que tipo de problema estamos enfrentando e qual técnica você utilizaria para resolver esse problema?\n",
    "Problema de inadimplencia, mais especificamente, um problema classificação binária. Usaria alguma técnica de machine learning para classificação. Nesse caso foi usado o algoritmo de Support Vector Machine.\n",
    "\n",
    "# 2.2 - Se você só pudesse enviar comunicação para 10% dos clientes devivo ao alto custo, para quais clientes abaixo você enviaria?\n",
    "Para os 10% de clientes com maior probabilidade de não pagar as próximas faturas. Esse notebook mostra como chegar e quem são esses 10%."
   ]
  },
  {
   "cell_type": "markdown",
   "metadata": {},
   "source": [
    "# Colunas\n",
    "* default_payment - _**Variável dependente**_ : Pagamento da Próxima Fatura (1: Sim, 0: Não) \n",
    "\n",
    "\n",
    "* LIMIT_BAL - _**Variável numérica**_ : Amount of the given credit (NT dollar): it includes both the individual consumer credit and his/her family (supplementary) credit. \n",
    "\n",
    "\n",
    "* SEX - _**Variável Categórica Nominal**_ : Gender (1 = male; 2 = female).\n",
    "\n",
    "\n",
    "* EDUCATION - _**Variável Categórica Nominal**_ : Educação (1 = graduate school; 2 = university; 3 = high school; 4 = others).\n",
    "\n",
    "\n",
    "* MARRIAGE - _**Variável Categórica Nominal**_ : Marital status (1 = married; 2 = single; 3 = others).\n",
    "\n",
    "\n",
    "* AGE - _**Variável Numérica**_ : Age (year).\n",
    "\n",
    "\n",
    "* PAY_0,PAY_2 ~ PAY_6 - _**Variável Numérica**_ : History of past payment. We tracked the past monthly payment records (from April to September, 2019) as follows: PAY_0 = the repayment status in September, 2019; PAY_2 = the repayment status in August, 2019;The measurement scale for the repayment status is: -1 = pay duly; 1 = payment delay for one month; 2 = payment delay for two months; ... ; 8 = payment delay for eight months; 9 = payment delay for nine months and above\n",
    "\n",
    "\n",
    "* BILL_AMT1 ~ BILL_AMT6 - _**Variável Numérica**_ : Amount of bill statement (NT dollar). BILL_AMT1 = amount of bill statement in September, 2019; BILL_AMT2 = amount of bill statement in August, 2019; ... ; BILL_AMT6 = amount of bill statement in April, 2019.\n",
    "\n",
    "\n",
    "* PAY_AMT1 ~ PAY_AMT6 - _**Variável Numérica**_ : Amount of previous payment (NT dollar). PAY_AMT1 = amount paid in September, 2019; PAY_AMT2 = amount paid in August, 2019; ... ;PAY_AMT6 = amount paid in April, 2019."
   ]
  },
  {
   "cell_type": "code",
   "execution_count": 301,
   "metadata": {},
   "outputs": [],
   "source": [
    "import time\n",
    "import numpy as np\n",
    "import pandas as pd\n",
    "import matplotlib.pyplot as plt\n",
    "import seaborn as sns\n",
    "from sklearn.preprocessing import StandardScaler,MinMaxScaler,MaxAbsScaler\n",
    "from sklearn.linear_model import LogisticRegression\n",
    "from sklearn.model_selection import train_test_split,GridSearchCV, cross_val_score\n",
    "from sklearn.metrics import classification_report,confusion_matrix,f1_score\n",
    "from sklearn.neighbors import KNeighborsClassifier\n",
    "from sklearn.ensemble import RandomForestClassifier\n",
    "from sklearn.linear_model import LogisticRegression\n",
    "from sklearn.ensemble import GradientBoostingClassifier, AdaBoostClassifier\n",
    "from sklearn.svm import LinearSVC,SVC\n",
    "from imblearn.over_sampling import SMOTE\n"
   ]
  },
  {
   "cell_type": "markdown",
   "metadata": {},
   "source": [
    "# 1 - Análises iniciais"
   ]
  },
  {
   "cell_type": "code",
   "execution_count": 287,
   "metadata": {},
   "outputs": [],
   "source": [
    "train = pd.read_csv('data/questao2_creditcard.csv',sep=';',skiprows=1)\n",
    "test = pd.read_csv('data/questao22_creditcard_clientes.csv',sep=';',skiprows=1)"
   ]
  },
  {
   "cell_type": "code",
   "execution_count": 75,
   "metadata": {
    "collapsed": true
   },
   "outputs": [
    {
     "data": {
      "text/html": [
       "<div>\n",
       "<style scoped>\n",
       "    .dataframe tbody tr th:only-of-type {\n",
       "        vertical-align: middle;\n",
       "    }\n",
       "\n",
       "    .dataframe tbody tr th {\n",
       "        vertical-align: top;\n",
       "    }\n",
       "\n",
       "    .dataframe thead th {\n",
       "        text-align: right;\n",
       "    }\n",
       "</style>\n",
       "<table border=\"1\" class=\"dataframe\">\n",
       "  <thead>\n",
       "    <tr style=\"text-align: right;\">\n",
       "      <th></th>\n",
       "      <th>LIMIT_BAL</th>\n",
       "      <th>SEX</th>\n",
       "      <th>EDUCATION</th>\n",
       "      <th>MARRIAGE</th>\n",
       "      <th>AGE</th>\n",
       "      <th>PAY_0</th>\n",
       "      <th>PAY_2</th>\n",
       "      <th>PAY_3</th>\n",
       "      <th>PAY_4</th>\n",
       "      <th>PAY_5</th>\n",
       "      <th>...</th>\n",
       "      <th>BILL_AMT4</th>\n",
       "      <th>BILL_AMT5</th>\n",
       "      <th>BILL_AMT6</th>\n",
       "      <th>PAY_AMT1</th>\n",
       "      <th>PAY_AMT2</th>\n",
       "      <th>PAY_AMT3</th>\n",
       "      <th>PAY_AMT4</th>\n",
       "      <th>PAY_AMT5</th>\n",
       "      <th>PAY_AMT6</th>\n",
       "      <th>default_payment</th>\n",
       "    </tr>\n",
       "  </thead>\n",
       "  <tbody>\n",
       "    <tr>\n",
       "      <th>0</th>\n",
       "      <td>20000</td>\n",
       "      <td>2</td>\n",
       "      <td>2</td>\n",
       "      <td>1</td>\n",
       "      <td>24</td>\n",
       "      <td>2</td>\n",
       "      <td>2</td>\n",
       "      <td>-1</td>\n",
       "      <td>-1</td>\n",
       "      <td>-2</td>\n",
       "      <td>...</td>\n",
       "      <td>0</td>\n",
       "      <td>0</td>\n",
       "      <td>0</td>\n",
       "      <td>0</td>\n",
       "      <td>689</td>\n",
       "      <td>0</td>\n",
       "      <td>0</td>\n",
       "      <td>0</td>\n",
       "      <td>0</td>\n",
       "      <td>1</td>\n",
       "    </tr>\n",
       "    <tr>\n",
       "      <th>1</th>\n",
       "      <td>120000</td>\n",
       "      <td>2</td>\n",
       "      <td>2</td>\n",
       "      <td>2</td>\n",
       "      <td>26</td>\n",
       "      <td>-1</td>\n",
       "      <td>2</td>\n",
       "      <td>0</td>\n",
       "      <td>0</td>\n",
       "      <td>0</td>\n",
       "      <td>...</td>\n",
       "      <td>3272</td>\n",
       "      <td>3455</td>\n",
       "      <td>3261</td>\n",
       "      <td>0</td>\n",
       "      <td>1000</td>\n",
       "      <td>1000</td>\n",
       "      <td>1000</td>\n",
       "      <td>0</td>\n",
       "      <td>2000</td>\n",
       "      <td>1</td>\n",
       "    </tr>\n",
       "    <tr>\n",
       "      <th>2</th>\n",
       "      <td>90000</td>\n",
       "      <td>2</td>\n",
       "      <td>2</td>\n",
       "      <td>2</td>\n",
       "      <td>34</td>\n",
       "      <td>0</td>\n",
       "      <td>0</td>\n",
       "      <td>0</td>\n",
       "      <td>0</td>\n",
       "      <td>0</td>\n",
       "      <td>...</td>\n",
       "      <td>14331</td>\n",
       "      <td>14948</td>\n",
       "      <td>15549</td>\n",
       "      <td>1518</td>\n",
       "      <td>1500</td>\n",
       "      <td>1000</td>\n",
       "      <td>1000</td>\n",
       "      <td>1000</td>\n",
       "      <td>5000</td>\n",
       "      <td>0</td>\n",
       "    </tr>\n",
       "    <tr>\n",
       "      <th>3</th>\n",
       "      <td>50000</td>\n",
       "      <td>2</td>\n",
       "      <td>2</td>\n",
       "      <td>1</td>\n",
       "      <td>37</td>\n",
       "      <td>0</td>\n",
       "      <td>0</td>\n",
       "      <td>0</td>\n",
       "      <td>0</td>\n",
       "      <td>0</td>\n",
       "      <td>...</td>\n",
       "      <td>28314</td>\n",
       "      <td>28959</td>\n",
       "      <td>29547</td>\n",
       "      <td>2000</td>\n",
       "      <td>2019</td>\n",
       "      <td>1200</td>\n",
       "      <td>1100</td>\n",
       "      <td>1069</td>\n",
       "      <td>1000</td>\n",
       "      <td>0</td>\n",
       "    </tr>\n",
       "    <tr>\n",
       "      <th>4</th>\n",
       "      <td>50000</td>\n",
       "      <td>1</td>\n",
       "      <td>2</td>\n",
       "      <td>1</td>\n",
       "      <td>57</td>\n",
       "      <td>-1</td>\n",
       "      <td>0</td>\n",
       "      <td>-1</td>\n",
       "      <td>0</td>\n",
       "      <td>0</td>\n",
       "      <td>...</td>\n",
       "      <td>20940</td>\n",
       "      <td>19146</td>\n",
       "      <td>19131</td>\n",
       "      <td>2000</td>\n",
       "      <td>36681</td>\n",
       "      <td>10000</td>\n",
       "      <td>9000</td>\n",
       "      <td>689</td>\n",
       "      <td>679</td>\n",
       "      <td>0</td>\n",
       "    </tr>\n",
       "  </tbody>\n",
       "</table>\n",
       "<p>5 rows × 24 columns</p>\n",
       "</div>"
      ],
      "text/plain": [
       "   LIMIT_BAL  SEX  EDUCATION  MARRIAGE  AGE  PAY_0  PAY_2  PAY_3  PAY_4  \\\n",
       "0      20000    2          2         1   24      2      2     -1     -1   \n",
       "1     120000    2          2         2   26     -1      2      0      0   \n",
       "2      90000    2          2         2   34      0      0      0      0   \n",
       "3      50000    2          2         1   37      0      0      0      0   \n",
       "4      50000    1          2         1   57     -1      0     -1      0   \n",
       "\n",
       "   PAY_5  ...  BILL_AMT4  BILL_AMT5  BILL_AMT6  PAY_AMT1  PAY_AMT2  PAY_AMT3  \\\n",
       "0     -2  ...          0          0          0         0       689         0   \n",
       "1      0  ...       3272       3455       3261         0      1000      1000   \n",
       "2      0  ...      14331      14948      15549      1518      1500      1000   \n",
       "3      0  ...      28314      28959      29547      2000      2019      1200   \n",
       "4      0  ...      20940      19146      19131      2000     36681     10000   \n",
       "\n",
       "   PAY_AMT4  PAY_AMT5  PAY_AMT6  default_payment  \n",
       "0         0         0         0                1  \n",
       "1      1000         0      2000                1  \n",
       "2      1000      1000      5000                0  \n",
       "3      1100      1069      1000                0  \n",
       "4      9000       689       679                0  \n",
       "\n",
       "[5 rows x 24 columns]"
      ]
     },
     "execution_count": 75,
     "metadata": {},
     "output_type": "execute_result"
    }
   ],
   "source": [
    "train.head()"
   ]
  },
  {
   "cell_type": "code",
   "execution_count": 76,
   "metadata": {
    "collapsed": true
   },
   "outputs": [
    {
     "data": {
      "text/html": [
       "<div>\n",
       "<style scoped>\n",
       "    .dataframe tbody tr th:only-of-type {\n",
       "        vertical-align: middle;\n",
       "    }\n",
       "\n",
       "    .dataframe tbody tr th {\n",
       "        vertical-align: top;\n",
       "    }\n",
       "\n",
       "    .dataframe thead th {\n",
       "        text-align: right;\n",
       "    }\n",
       "</style>\n",
       "<table border=\"1\" class=\"dataframe\">\n",
       "  <thead>\n",
       "    <tr style=\"text-align: right;\">\n",
       "      <th></th>\n",
       "      <th>LIMIT_BAL</th>\n",
       "      <th>SEX</th>\n",
       "      <th>EDUCATION</th>\n",
       "      <th>MARRIAGE</th>\n",
       "      <th>AGE</th>\n",
       "      <th>PAY_0</th>\n",
       "      <th>PAY_2</th>\n",
       "      <th>PAY_3</th>\n",
       "      <th>PAY_4</th>\n",
       "      <th>PAY_5</th>\n",
       "      <th>...</th>\n",
       "      <th>BILL_AMT3</th>\n",
       "      <th>BILL_AMT4</th>\n",
       "      <th>BILL_AMT5</th>\n",
       "      <th>BILL_AMT6</th>\n",
       "      <th>PAY_AMT1</th>\n",
       "      <th>PAY_AMT2</th>\n",
       "      <th>PAY_AMT3</th>\n",
       "      <th>PAY_AMT4</th>\n",
       "      <th>PAY_AMT5</th>\n",
       "      <th>PAY_AMT6</th>\n",
       "    </tr>\n",
       "  </thead>\n",
       "  <tbody>\n",
       "    <tr>\n",
       "      <th>0</th>\n",
       "      <td>70000</td>\n",
       "      <td>2</td>\n",
       "      <td>2</td>\n",
       "      <td>2</td>\n",
       "      <td>26</td>\n",
       "      <td>2</td>\n",
       "      <td>0</td>\n",
       "      <td>0</td>\n",
       "      <td>2</td>\n",
       "      <td>2</td>\n",
       "      <td>...</td>\n",
       "      <td>45020</td>\n",
       "      <td>44006</td>\n",
       "      <td>46905</td>\n",
       "      <td>46012</td>\n",
       "      <td>2007</td>\n",
       "      <td>3582</td>\n",
       "      <td>0</td>\n",
       "      <td>3601</td>\n",
       "      <td>0</td>\n",
       "      <td>1820</td>\n",
       "    </tr>\n",
       "    <tr>\n",
       "      <th>1</th>\n",
       "      <td>230000</td>\n",
       "      <td>2</td>\n",
       "      <td>1</td>\n",
       "      <td>2</td>\n",
       "      <td>27</td>\n",
       "      <td>-1</td>\n",
       "      <td>-1</td>\n",
       "      <td>-1</td>\n",
       "      <td>-1</td>\n",
       "      <td>-1</td>\n",
       "      <td>...</td>\n",
       "      <td>13266</td>\n",
       "      <td>15339</td>\n",
       "      <td>14307</td>\n",
       "      <td>36923</td>\n",
       "      <td>17270</td>\n",
       "      <td>13281</td>\n",
       "      <td>15339</td>\n",
       "      <td>14307</td>\n",
       "      <td>37292</td>\n",
       "      <td>0</td>\n",
       "    </tr>\n",
       "    <tr>\n",
       "      <th>2</th>\n",
       "      <td>50000</td>\n",
       "      <td>1</td>\n",
       "      <td>2</td>\n",
       "      <td>2</td>\n",
       "      <td>33</td>\n",
       "      <td>2</td>\n",
       "      <td>0</td>\n",
       "      <td>0</td>\n",
       "      <td>0</td>\n",
       "      <td>0</td>\n",
       "      <td>...</td>\n",
       "      <td>22102</td>\n",
       "      <td>22734</td>\n",
       "      <td>23217</td>\n",
       "      <td>23680</td>\n",
       "      <td>1718</td>\n",
       "      <td>1500</td>\n",
       "      <td>1000</td>\n",
       "      <td>1000</td>\n",
       "      <td>1000</td>\n",
       "      <td>716</td>\n",
       "    </tr>\n",
       "    <tr>\n",
       "      <th>3</th>\n",
       "      <td>50000</td>\n",
       "      <td>1</td>\n",
       "      <td>1</td>\n",
       "      <td>2</td>\n",
       "      <td>29</td>\n",
       "      <td>2</td>\n",
       "      <td>2</td>\n",
       "      <td>2</td>\n",
       "      <td>2</td>\n",
       "      <td>2</td>\n",
       "      <td>...</td>\n",
       "      <td>26591</td>\n",
       "      <td>25865</td>\n",
       "      <td>27667</td>\n",
       "      <td>28264</td>\n",
       "      <td>0</td>\n",
       "      <td>2700</td>\n",
       "      <td>0</td>\n",
       "      <td>2225</td>\n",
       "      <td>1200</td>\n",
       "      <td>0</td>\n",
       "    </tr>\n",
       "    <tr>\n",
       "      <th>4</th>\n",
       "      <td>10000</td>\n",
       "      <td>1</td>\n",
       "      <td>2</td>\n",
       "      <td>1</td>\n",
       "      <td>56</td>\n",
       "      <td>2</td>\n",
       "      <td>2</td>\n",
       "      <td>2</td>\n",
       "      <td>0</td>\n",
       "      <td>0</td>\n",
       "      <td>...</td>\n",
       "      <td>3978</td>\n",
       "      <td>4062</td>\n",
       "      <td>4196</td>\n",
       "      <td>4326</td>\n",
       "      <td>2300</td>\n",
       "      <td>0</td>\n",
       "      <td>150</td>\n",
       "      <td>200</td>\n",
       "      <td>200</td>\n",
       "      <td>160</td>\n",
       "    </tr>\n",
       "  </tbody>\n",
       "</table>\n",
       "<p>5 rows × 23 columns</p>\n",
       "</div>"
      ],
      "text/plain": [
       "   LIMIT_BAL  SEX  EDUCATION  MARRIAGE  AGE  PAY_0  PAY_2  PAY_3  PAY_4  \\\n",
       "0      70000    2          2         2   26      2      0      0      2   \n",
       "1     230000    2          1         2   27     -1     -1     -1     -1   \n",
       "2      50000    1          2         2   33      2      0      0      0   \n",
       "3      50000    1          1         2   29      2      2      2      2   \n",
       "4      10000    1          2         1   56      2      2      2      0   \n",
       "\n",
       "   PAY_5  ...  BILL_AMT3  BILL_AMT4  BILL_AMT5  BILL_AMT6  PAY_AMT1  PAY_AMT2  \\\n",
       "0      2  ...      45020      44006      46905      46012      2007      3582   \n",
       "1     -1  ...      13266      15339      14307      36923     17270     13281   \n",
       "2      0  ...      22102      22734      23217      23680      1718      1500   \n",
       "3      2  ...      26591      25865      27667      28264         0      2700   \n",
       "4      0  ...       3978       4062       4196       4326      2300         0   \n",
       "\n",
       "   PAY_AMT3  PAY_AMT4  PAY_AMT5  PAY_AMT6  \n",
       "0         0      3601         0      1820  \n",
       "1     15339     14307     37292         0  \n",
       "2      1000      1000      1000       716  \n",
       "3         0      2225      1200         0  \n",
       "4       150       200       200       160  \n",
       "\n",
       "[5 rows x 23 columns]"
      ]
     },
     "execution_count": 76,
     "metadata": {},
     "output_type": "execute_result"
    }
   ],
   "source": [
    "test.head()"
   ]
  },
  {
   "cell_type": "code",
   "execution_count": 273,
   "metadata": {},
   "outputs": [
    {
     "data": {
      "text/plain": [
       "True"
      ]
     },
     "execution_count": 273,
     "metadata": {},
     "output_type": "execute_result"
    }
   ],
   "source": [
    "all(train.columns[:-1] == test.columns)"
   ]
  },
  {
   "cell_type": "code",
   "execution_count": 78,
   "metadata": {
    "scrolled": true
   },
   "outputs": [
    {
     "name": "stdout",
     "output_type": "stream",
     "text": [
      "LIMIT_BAL          0\n",
      "SEX                0\n",
      "EDUCATION          0\n",
      "MARRIAGE           0\n",
      "AGE                0\n",
      "PAY_0              0\n",
      "PAY_2              0\n",
      "PAY_3              0\n",
      "PAY_4              0\n",
      "PAY_5              0\n",
      "PAY_6              0\n",
      "BILL_AMT1          0\n",
      "BILL_AMT2          0\n",
      "BILL_AMT3          0\n",
      "BILL_AMT4          0\n",
      "BILL_AMT5          0\n",
      "BILL_AMT6          0\n",
      "PAY_AMT1           0\n",
      "PAY_AMT2           0\n",
      "PAY_AMT3           0\n",
      "PAY_AMT4           0\n",
      "PAY_AMT5           0\n",
      "PAY_AMT6           0\n",
      "default_payment    0\n",
      "dtype: int64 \n",
      "\n",
      "LIMIT_BAL    0\n",
      "SEX          0\n",
      "EDUCATION    0\n",
      "MARRIAGE     0\n",
      "AGE          0\n",
      "PAY_0        0\n",
      "PAY_2        0\n",
      "PAY_3        0\n",
      "PAY_4        0\n",
      "PAY_5        0\n",
      "PAY_6        0\n",
      "BILL_AMT1    0\n",
      "BILL_AMT2    0\n",
      "BILL_AMT3    0\n",
      "BILL_AMT4    0\n",
      "BILL_AMT5    0\n",
      "BILL_AMT6    0\n",
      "PAY_AMT1     0\n",
      "PAY_AMT2     0\n",
      "PAY_AMT3     0\n",
      "PAY_AMT4     0\n",
      "PAY_AMT5     0\n",
      "PAY_AMT6     0\n",
      "dtype: int64\n"
     ]
    }
   ],
   "source": [
    "print(train.isnull().sum(),'\\n')\n",
    "print(test.isnull().sum())"
   ]
  },
  {
   "cell_type": "code",
   "execution_count": 258,
   "metadata": {},
   "outputs": [
    {
     "data": {
      "text/plain": [
       "0    21219\n",
       "1     6058\n",
       "Name: default_payment, dtype: int64"
      ]
     },
     "execution_count": 258,
     "metadata": {},
     "output_type": "execute_result"
    }
   ],
   "source": [
    "#Dados desbalanceados\n",
    "train['default_payment'].value_counts()"
   ]
  },
  {
   "cell_type": "markdown",
   "metadata": {},
   "source": [
    "# 2 - Tratamento de variáveis"
   ]
  },
  {
   "cell_type": "code",
   "execution_count": 288,
   "metadata": {},
   "outputs": [],
   "source": [
    "# Categóricas\n",
    "categorical = ['SEX','EDUCATION','MARRIAGE']\n",
    "\n",
    "train_cat = pd.concat([pd.get_dummies(train[categorical[0]],prefix=categorical[0]), \n",
    "                     pd.get_dummies(train[categorical[1]],prefix=categorical[1]),\n",
    "                     pd.get_dummies(train[categorical[2]],prefix=categorical[2])\n",
    "                        ],axis=1)\n",
    "\n",
    "test_cat = pd.concat([pd.get_dummies(test[categorical[0]],prefix=categorical[0]), \n",
    "                     pd.get_dummies(test[categorical[1]],prefix=categorical[1]),\n",
    "                     pd.get_dummies(test[categorical[2]],prefix=categorical[2])\n",
    "                        ],axis=1)"
   ]
  },
  {
   "cell_type": "code",
   "execution_count": 275,
   "metadata": {},
   "outputs": [
    {
     "data": {
      "text/plain": [
       "True"
      ]
     },
     "execution_count": 275,
     "metadata": {},
     "output_type": "execute_result"
    }
   ],
   "source": [
    "all(train_cat.columns == test_cat.columns) "
   ]
  },
  {
   "cell_type": "code",
   "execution_count": 289,
   "metadata": {},
   "outputs": [],
   "source": [
    "#Numéricas\n",
    "numerical = set(test.columns) - set(categorical)\n",
    "\n",
    "train_num,test_num = train[numerical],test[numerical]"
   ]
  },
  {
   "cell_type": "code",
   "execution_count": 290,
   "metadata": {},
   "outputs": [],
   "source": [
    "scaler = StandardScaler()\n",
    "\n",
    "train_num = scaler.fit_transform(train_num)\n",
    "test_num = scaler.transform(test_num)\n",
    "\n",
    "train_num = pd.DataFrame(train_num,columns = numerical,index = train.index)\n",
    "test_num = pd.DataFrame(test_num,columns = numerical,index = test.index)"
   ]
  },
  {
   "cell_type": "markdown",
   "metadata": {},
   "source": [
    "# 3 - Divisão treino/teste e oversampling "
   ]
  },
  {
   "cell_type": "code",
   "execution_count": 291,
   "metadata": {},
   "outputs": [],
   "source": [
    "X = pd.concat([train_cat,train_num],axis=1)\n",
    "y = train['default_payment']"
   ]
  },
  {
   "cell_type": "code",
   "execution_count": 292,
   "metadata": {},
   "outputs": [],
   "source": [
    "X_train, X_test, y_train, y_test = train_test_split(X, y, test_size=0.33, random_state=42)"
   ]
  },
  {
   "cell_type": "code",
   "execution_count": 293,
   "metadata": {},
   "outputs": [
    {
     "data": {
      "text/plain": [
       "0    14221\n",
       "1     4054\n",
       "Name: default_payment, dtype: int64"
      ]
     },
     "execution_count": 293,
     "metadata": {},
     "output_type": "execute_result"
    }
   ],
   "source": [
    "y_train.value_counts()"
   ]
  },
  {
   "cell_type": "code",
   "execution_count": 294,
   "metadata": {
    "scrolled": true
   },
   "outputs": [],
   "source": [
    "over_sampler = SMOTE(random_state=42)\n",
    "X_train_res, y_train_res = over_sampler.fit_resample(X_train, y_train)"
   ]
  },
  {
   "cell_type": "code",
   "execution_count": 296,
   "metadata": {},
   "outputs": [
    {
     "data": {
      "text/plain": [
       "1    14221\n",
       "0    14221\n",
       "Name: default_payment, dtype: int64"
      ]
     },
     "execution_count": 296,
     "metadata": {},
     "output_type": "execute_result"
    }
   ],
   "source": [
    "y_train_res.value_counts()"
   ]
  },
  {
   "cell_type": "markdown",
   "metadata": {},
   "source": [
    "# 4 - Performances de modelos de classificação"
   ]
  },
  {
   "cell_type": "code",
   "execution_count": 305,
   "metadata": {},
   "outputs": [],
   "source": [
    "dict_classifiers = {\"Floresta Aleatória\": RandomForestClassifier(random_state=0),\n",
    "    \"Vizinhos mais próximos\": KNeighborsClassifier(),\n",
    "    \"Regressão Logística\": LogisticRegression(solver = \"liblinear\",random_state=0),\n",
    "    \"Gradient Boosting\": GradientBoostingClassifier(random_state=0),\n",
    "    \"Ada Boost\": AdaBoostClassifier(),\n",
    "    \"SVM Linear\": LinearSVC(dual=False,random_state=0),\n",
    "    \"SVM\": SVC(probability=True,random_state=0)\n",
    "}\n",
    "\n",
    "classifiers_names = list(dict_classifiers.keys())\n",
    "classifiers_values = list(dict_classifiers.values())\n"
   ]
  },
  {
   "cell_type": "code",
   "execution_count": 303,
   "metadata": {},
   "outputs": [],
   "source": [
    "def train_model(model):\n",
    "    t0 = time.time()\n",
    "    model.fit(X_train_res,y_train_res)\n",
    "    print(f'Treinou em {time.time()-t0:.3f} segundos')\n",
    "    \n",
    "    pred = model.predict(X_test)\n",
    "    f1_0,f1_1 = f1_score(y_test,pred,average=None)\n",
    "    print(f\"f1_0 = {f1_0}\\nf1_1 = {f1_1}\\n\")"
   ]
  },
  {
   "cell_type": "code",
   "execution_count": 299,
   "metadata": {
    "scrolled": true
   },
   "outputs": [
    {
     "name": "stdout",
     "output_type": "stream",
     "text": [
      "------------------Floresta Aleatória------------------\n",
      "Treinou em 6.131 segundos\n",
      "f1_0 = 0.8680964395850855\n",
      "f1_1 = 0.496252676659529\n",
      "\n",
      "------------------Vizinhos mais próximos------------------\n",
      "Treinou em 0.112 segundos\n",
      "f1_0 = 0.7591752249024761\n",
      "f1_1 = 0.4442403086533162\n",
      "\n",
      "------------------Regressão Logística------------------\n",
      "Treinou em 0.434 segundos\n",
      "f1_0 = 0.8239610632721828\n",
      "f1_1 = 0.49429984942998495\n",
      "\n",
      "------------------Gradient Boosting------------------\n",
      "Treinou em 11.364 segundos\n",
      "f1_0 = 0.8689616092931008\n",
      "f1_1 = 0.5239320638188368\n",
      "\n",
      "------------------Ada Boost------------------\n",
      "Treinou em 2.512 segundos\n",
      "f1_0 = 0.8399177559112939\n",
      "f1_1 = 0.5029639762881898\n",
      "\n",
      "------------------SVM Linear------------------\n",
      "Treinou em 0.489 segundos\n",
      "f1_0 = 0.8315773853687491\n",
      "f1_1 = 0.49845338046840476\n",
      "\n",
      "------------------SVM------------------\n",
      "Treinou em 300.623 segundos\n",
      "f1_0 = 0.8661147587781902\n",
      "f1_1 = 0.5300601202404809\n",
      "\n"
     ]
    }
   ],
   "source": [
    "for key,value in zip(classifiers_names,classifiers_values):\n",
    "    print('--'*9+f'{key}'+'--'*9)\n",
    "    train_model(value)"
   ]
  },
  {
   "cell_type": "markdown",
   "metadata": {},
   "source": [
    "# 5 - Support Vector Machine Classifier"
   ]
  },
  {
   "cell_type": "code",
   "execution_count": 307,
   "metadata": {},
   "outputs": [],
   "source": [
    "#(clf, X, y_true)\n",
    "def f1(model,X_test,y_test):\n",
    "    pred = model.predict(X_test)\n",
    "    f1_0,f1_1 = f1_score(y_test,pred,average=None)    \n",
    "    return f1_1"
   ]
  },
  {
   "cell_type": "code",
   "execution_count": 317,
   "metadata": {},
   "outputs": [],
   "source": [
    "model = SVC(probability=True,random_state=0)\n",
    "model.fit(X_train_res,y_train_res)\n",
    "pred = model.predict(X_test)"
   ]
  },
  {
   "cell_type": "code",
   "execution_count": 320,
   "metadata": {},
   "outputs": [
    {
     "data": {
      "text/plain": [
       "array([0.41444444, 0.43124312, 0.48912467, 0.48938547, 0.45330296])"
      ]
     },
     "execution_count": 320,
     "metadata": {},
     "output_type": "execute_result"
    }
   ],
   "source": [
    "scores = cross_val_score(model,X,y, cv = 5, scoring=f1,n_jobs=4)\n",
    "scores"
   ]
  },
  {
   "cell_type": "code",
   "execution_count": 321,
   "metadata": {},
   "outputs": [
    {
     "name": "stdout",
     "output_type": "stream",
     "text": [
      "              precision    recall  f1-score   support\n",
      "\n",
      "           0       0.87      0.87      0.87      6998\n",
      "           1       0.53      0.53      0.53      2004\n",
      "\n",
      "    accuracy                           0.79      9002\n",
      "   macro avg       0.70      0.70      0.70      9002\n",
      "weighted avg       0.79      0.79      0.79      9002\n",
      "\n"
     ]
    }
   ],
   "source": [
    "print(classification_report(y_test,pred))"
   ]
  },
  {
   "cell_type": "code",
   "execution_count": 322,
   "metadata": {},
   "outputs": [
    {
     "data": {
      "text/plain": [
       "array([[6068,  930],\n",
       "       [ 946, 1058]])"
      ]
     },
     "execution_count": 322,
     "metadata": {},
     "output_type": "execute_result"
    }
   ],
   "source": [
    "conf_matrix=confusion_matrix(y_test, pred)\n",
    "conf_matrix"
   ]
  },
  {
   "cell_type": "code",
   "execution_count": 323,
   "metadata": {},
   "outputs": [
    {
     "name": "stdout",
     "output_type": "stream",
     "text": [
      "Taxa de True Negatives = 67.4%\n",
      "Taxa de True Positives = 11.799999999999999%\n",
      "Taxa de False Positives - Erro Tipo I = = 10.299999999999999%\n",
      "Taxa de False Negatives - Erro Tipo II = = 10.5%\n"
     ]
    }
   ],
   "source": [
    "print(f'Taxa de True Negatives = {round((conf_matrix[0,0] / y_test.shape[0]),3) * 100}%')\n",
    "print(f'Taxa de True Positives = {round((conf_matrix[1,1] / y_test.shape[0]),3) * 100}%')\n",
    "print(f'Taxa de False Positives - Erro Tipo I = = {round((conf_matrix[0,1] / y_test.shape[0]),3) * 100}%')\n",
    "print(f'Taxa de False Negatives - Erro Tipo II = = {round((conf_matrix[1,0] / y_test.shape[0]),3) * 100}%')"
   ]
  },
  {
   "cell_type": "markdown",
   "metadata": {},
   "source": [
    "#### Apesar do uso do SMOTE para driblar o desbalanceamento, os erros continuam relativamente altos."
   ]
  },
  {
   "cell_type": "markdown",
   "metadata": {},
   "source": [
    "# 6 - Clientes mais inadimplentes"
   ]
  },
  {
   "cell_type": "code",
   "execution_count": 324,
   "metadata": {},
   "outputs": [],
   "source": [
    "#test_cat e test_num vêm do \"questao22_creditcard_clientes.csv\"\n",
    "Xtest = pd.concat([test_cat,test_num],axis=1)"
   ]
  },
  {
   "cell_type": "code",
   "execution_count": 325,
   "metadata": {},
   "outputs": [],
   "source": [
    "pred = model.predict(Xtest)\n",
    "prob = model.predict_proba(Xtest)"
   ]
  },
  {
   "cell_type": "code",
   "execution_count": 326,
   "metadata": {},
   "outputs": [
    {
     "data": {
      "text/plain": [
       "array([0, 1])"
      ]
     },
     "execution_count": 326,
     "metadata": {},
     "output_type": "execute_result"
    }
   ],
   "source": [
    "model.classes_\n",
    "# ou seja, classe 0 será a coluna 0 e classe 1 a coluna 1 de prob"
   ]
  },
  {
   "cell_type": "code",
   "execution_count": 327,
   "metadata": {},
   "outputs": [],
   "source": [
    "#Não pagar = 0\n",
    "\n",
    "prob0 = pd.DataFrame(prob[:,0],columns=['Probabilidade de não pagar as próximas faturas'],index=Xtest.index)\n",
    "prob0 = prob0.sort_values(by='Probabilidade de não pagar as próximas faturas',ascending=False)"
   ]
  },
  {
   "cell_type": "code",
   "execution_count": 328,
   "metadata": {},
   "outputs": [
    {
     "data": {
      "text/html": [
       "<div>\n",
       "<style scoped>\n",
       "    .dataframe tbody tr th:only-of-type {\n",
       "        vertical-align: middle;\n",
       "    }\n",
       "\n",
       "    .dataframe tbody tr th {\n",
       "        vertical-align: top;\n",
       "    }\n",
       "\n",
       "    .dataframe thead th {\n",
       "        text-align: right;\n",
       "    }\n",
       "</style>\n",
       "<table border=\"1\" class=\"dataframe\">\n",
       "  <thead>\n",
       "    <tr style=\"text-align: right;\">\n",
       "      <th></th>\n",
       "      <th>Probabilidade de não pagar as próximas faturas</th>\n",
       "    </tr>\n",
       "  </thead>\n",
       "  <tbody>\n",
       "    <tr>\n",
       "      <th>1052</th>\n",
       "      <td>0.911386</td>\n",
       "    </tr>\n",
       "    <tr>\n",
       "      <th>594</th>\n",
       "      <td>0.900472</td>\n",
       "    </tr>\n",
       "    <tr>\n",
       "      <th>263</th>\n",
       "      <td>0.883391</td>\n",
       "    </tr>\n",
       "    <tr>\n",
       "      <th>2620</th>\n",
       "      <td>0.882952</td>\n",
       "    </tr>\n",
       "    <tr>\n",
       "      <th>1453</th>\n",
       "      <td>0.879276</td>\n",
       "    </tr>\n",
       "    <tr>\n",
       "      <th>...</th>\n",
       "      <td>...</td>\n",
       "    </tr>\n",
       "    <tr>\n",
       "      <th>1449</th>\n",
       "      <td>0.775648</td>\n",
       "    </tr>\n",
       "    <tr>\n",
       "      <th>1957</th>\n",
       "      <td>0.775541</td>\n",
       "    </tr>\n",
       "    <tr>\n",
       "      <th>777</th>\n",
       "      <td>0.775498</td>\n",
       "    </tr>\n",
       "    <tr>\n",
       "      <th>515</th>\n",
       "      <td>0.775477</td>\n",
       "    </tr>\n",
       "    <tr>\n",
       "      <th>136</th>\n",
       "      <td>0.775320</td>\n",
       "    </tr>\n",
       "  </tbody>\n",
       "</table>\n",
       "<p>272 rows × 1 columns</p>\n",
       "</div>"
      ],
      "text/plain": [
       "      Probabilidade de não pagar as próximas faturas\n",
       "1052                                        0.911386\n",
       "594                                         0.900472\n",
       "263                                         0.883391\n",
       "2620                                        0.882952\n",
       "1453                                        0.879276\n",
       "...                                              ...\n",
       "1449                                        0.775648\n",
       "1957                                        0.775541\n",
       "777                                         0.775498\n",
       "515                                         0.775477\n",
       "136                                         0.775320\n",
       "\n",
       "[272 rows x 1 columns]"
      ]
     },
     "execution_count": 328,
     "metadata": {},
     "output_type": "execute_result"
    }
   ],
   "source": [
    "#10% de clientes com maior probabilidade de não pagar as próximas faturas.\n",
    "percent = int(Xtest.shape[0] * 0.10)\n",
    "prob0.head(percent)"
   ]
  },
  {
   "cell_type": "markdown",
   "metadata": {},
   "source": [
    "# 7 - Resposta 2.2"
   ]
  },
  {
   "cell_type": "code",
   "execution_count": 329,
   "metadata": {},
   "outputs": [
    {
     "name": "stdout",
     "output_type": "stream",
     "text": [
      "Clientes que será enviada comunicação:\n",
      " [1052, 594, 263, 2620, 1453, 798, 2294, 1142, 318, 1749, 47, 538, 1069, 2225, 2556, 1818, 2139, 2174, 842, 2577, 2214, 1110, 1888, 587, 618, 354, 2259, 333, 2258, 1202, 1504, 2601, 2614, 814, 1103, 958, 2423, 2602, 2495, 957, 2196, 2321, 1617, 2199, 562, 1981, 2351, 1729, 1946, 112, 852, 2405, 2061, 1300, 2166, 45, 266, 2383, 649, 2541, 2040, 1213, 2356, 39, 403, 937, 17, 298, 865, 2096, 1542, 1745, 2354, 2481, 1372, 997, 1382, 872, 1466, 108, 2484, 2478, 1402, 2567, 911, 843, 305, 1702, 2508, 1815, 1987, 1908, 1270, 462, 1675, 449, 821, 671, 1212, 190, 816, 1458, 636, 244, 1521, 785, 2411, 583, 1891, 545, 577, 1875, 1600, 338, 2342, 106, 2018, 282, 1837, 2455, 2084, 588, 733, 2448, 973, 907, 2016, 2291, 1269, 2628, 2041, 2352, 2538, 2333, 625, 65, 418, 1678, 2666, 2471, 815, 531, 1438, 2388, 766, 2113, 2346, 711, 2606, 1778, 948, 1400, 1810, 1182, 1043, 376, 1944, 2201, 528, 1807, 1621, 1423, 1123, 771, 371, 1368, 717, 2518, 2615, 1640, 281, 2588, 140, 1315, 414, 825, 79, 1442, 378, 1276, 702, 260, 1166, 1301, 1288, 1410, 157, 748, 1278, 304, 1332, 1184, 2721, 450, 1751, 1761, 1309, 109, 1046, 886, 1232, 1707, 1551, 1083, 139, 1994, 913, 2063, 2632, 1791, 2571, 1714, 395, 2316, 2083, 1922, 1070, 483, 2469, 593, 1381, 1404, 453, 2143, 1792, 2310, 1495, 1716, 2446, 1131, 1061, 2273, 1976, 2507, 1731, 185, 539, 1693, 2344, 37, 422, 1145, 210, 310, 2331, 1867, 722, 2078, 933, 2112, 286, 919, 2190, 2309, 1653, 1487, 2385, 2188, 1340, 2635, 739, 1355, 1754, 1037, 2017, 2660, 1860, 1449, 1957, 777, 515, 136]\n"
     ]
    }
   ],
   "source": [
    "print('Clientes que será enviada comunicação:\\n',list(prob0.index[:percent]))"
   ]
  },
  {
   "cell_type": "code",
   "execution_count": 330,
   "metadata": {},
   "outputs": [],
   "source": [
    "prob0.to_csv('prob_clientes.csv',index_label='Cliente')"
   ]
  },
  {
   "cell_type": "code",
   "execution_count": null,
   "metadata": {},
   "outputs": [],
   "source": []
  }
 ],
 "metadata": {
  "kernelspec": {
   "display_name": "Python 3",
   "language": "python",
   "name": "python3"
  },
  "language_info": {
   "codemirror_mode": {
    "name": "ipython",
    "version": 3
   },
   "file_extension": ".py",
   "mimetype": "text/x-python",
   "name": "python",
   "nbconvert_exporter": "python",
   "pygments_lexer": "ipython3",
   "version": "3.7.6"
  }
 },
 "nbformat": 4,
 "nbformat_minor": 4
}
