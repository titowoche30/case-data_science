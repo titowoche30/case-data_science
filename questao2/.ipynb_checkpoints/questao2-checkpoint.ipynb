{
 "cells": [
  {
   "cell_type": "markdown",
   "metadata": {},
   "source": [
    "# Objetivo:\n",
    "Prever o pagamento próxima fatura dos seus clientes e criação de estratégias de comunicação para clientes que tivessem alta\n",
    "probabilidade de não pagar as suas proximas faturas.\n"
   ]
  },
  {
   "cell_type": "markdown",
   "metadata": {},
   "source": [
    "# Q 2.1 - Que tipo de problema estamos enfrentando e qual técnica você utilizaria para resolver esse problema?\n",
    "Problema de inadimplencia, mais especificamente, um problema classificação binária. Usaria alguma técnica de machine learning para classificação. Nesse caso foi usado o algoritmo de Floresta Aleatória.\n",
    "\n",
    "# 2.2 - Se você só pudesse enviar comunicação para 10% dos clientes devivo ao alto custo, para quais clientes abaixo você enviaria?\n",
    "Para os 10% de clientes com maior probabilidade de não pagar as próximas faturas. Esse notebook mostra como chegar e quem são esses 10%."
   ]
  },
  {
   "cell_type": "markdown",
   "metadata": {},
   "source": [
    "# Colunas\n",
    "* default_payment - _**Variável dependente**_ : Pagamento da Próxima Fatura (1: Sim, 0: Não) \n",
    "\n",
    "\n",
    "* LIMIT_BAL - _**Variável numérica**_ : Amount of the given credit (NT dollar): it includes both the individual consumer credit and his/her family (supplementary) credit. \n",
    "\n",
    "\n",
    "* SEX - _**Variável Categórica Nominal**_ : Gender (1 = male; 2 = female).\n",
    "\n",
    "\n",
    "* EDUCATION - _**Variável Categórica Nominal**_ : Educação (1 = graduate school; 2 = university; 3 = high school; 4 = others).\n",
    "\n",
    "\n",
    "* MARRIAGE - _**Variável Categórica Nominal**_ : Marital status (1 = married; 2 = single; 3 = others).\n",
    "\n",
    "\n",
    "* AGE - _**Variável Numérica**_ : Age (year).\n",
    "\n",
    "\n",
    "* PAY_0,PAY_2 ~ PAY_6 - _**Variável Numérica**_ : History of past payment. We tracked the past monthly payment records (from April to September, 2019) as follows: PAY_0 = the repayment status in September, 2019; PAY_2 = the repayment status in August, 2019;The measurement scale for the repayment status is: -1 = pay duly; 1 = payment delay for one month; 2 = payment delay for two months; ... ; 8 = payment delay for eight months; 9 = payment delay for nine months and above\n",
    "\n",
    "\n",
    "* BILL_AMT1 ~ BILL_AMT6 - _**Variável Numérica**_ : Amount of bill statement (NT dollar). BILL_AMT1 = amount of bill statement in September, 2019; BILL_AMT2 = amount of bill statement in August, 2019; ... ; BILL_AMT6 = amount of bill statement in April, 2019.\n",
    "\n",
    "\n",
    "* PAY_AMT1 ~ PAY_AMT6 - _**Variável Numérica**_ : Amount of previous payment (NT dollar). PAY_AMT1 = amount paid in September, 2019; PAY_AMT2 = amount paid in August, 2019; ... ;PAY_AMT6 = amount paid in April, 2019."
   ]
  },
  {
   "cell_type": "code",
   "execution_count": 1,
   "metadata": {},
   "outputs": [],
   "source": [
    "import time\n",
    "import numpy as np\n",
    "import pandas as pd\n",
    "import matplotlib.pyplot as plt\n",
    "import seaborn as sns\n",
    "from sklearn.preprocessing import StandardScaler,MinMaxScaler,MaxAbsScaler\n",
    "from sklearn.linear_model import LogisticRegression\n",
    "from sklearn.model_selection import train_test_split,GridSearchCV\n",
    "from sklearn.metrics import classification_report,confusion_matrix,f1_score\n",
    "from sklearn.neighbors import KNeighborsClassifier\n",
    "from sklearn.ensemble import RandomForestClassifier\n",
    "from sklearn.linear_model import LogisticRegression\n",
    "from sklearn.ensemble import GradientBoostingClassifier, AdaBoostClassifier\n",
    "from sklearn.svm import LinearSVC,SVC\n",
    "from imblearn.over_sampling import RandomOverSampler"
   ]
  },
  {
   "cell_type": "markdown",
   "metadata": {},
   "source": [
    "# 1 - Análises iniciais"
   ]
  },
  {
   "cell_type": "code",
   "execution_count": 74,
   "metadata": {},
   "outputs": [],
   "source": [
    "train = pd.read_csv('data/questao2_creditcard.csv',sep=';',skiprows=1)\n",
    "test = pd.read_csv('data/questao22_creditcard_clientes.csv',sep=';',skiprows=1)"
   ]
  },
  {
   "cell_type": "code",
   "execution_count": 75,
   "metadata": {
    "collapsed": true
   },
   "outputs": [
    {
     "data": {
      "text/html": [
       "<div>\n",
       "<style scoped>\n",
       "    .dataframe tbody tr th:only-of-type {\n",
       "        vertical-align: middle;\n",
       "    }\n",
       "\n",
       "    .dataframe tbody tr th {\n",
       "        vertical-align: top;\n",
       "    }\n",
       "\n",
       "    .dataframe thead th {\n",
       "        text-align: right;\n",
       "    }\n",
       "</style>\n",
       "<table border=\"1\" class=\"dataframe\">\n",
       "  <thead>\n",
       "    <tr style=\"text-align: right;\">\n",
       "      <th></th>\n",
       "      <th>LIMIT_BAL</th>\n",
       "      <th>SEX</th>\n",
       "      <th>EDUCATION</th>\n",
       "      <th>MARRIAGE</th>\n",
       "      <th>AGE</th>\n",
       "      <th>PAY_0</th>\n",
       "      <th>PAY_2</th>\n",
       "      <th>PAY_3</th>\n",
       "      <th>PAY_4</th>\n",
       "      <th>PAY_5</th>\n",
       "      <th>...</th>\n",
       "      <th>BILL_AMT4</th>\n",
       "      <th>BILL_AMT5</th>\n",
       "      <th>BILL_AMT6</th>\n",
       "      <th>PAY_AMT1</th>\n",
       "      <th>PAY_AMT2</th>\n",
       "      <th>PAY_AMT3</th>\n",
       "      <th>PAY_AMT4</th>\n",
       "      <th>PAY_AMT5</th>\n",
       "      <th>PAY_AMT6</th>\n",
       "      <th>default_payment</th>\n",
       "    </tr>\n",
       "  </thead>\n",
       "  <tbody>\n",
       "    <tr>\n",
       "      <th>0</th>\n",
       "      <td>20000</td>\n",
       "      <td>2</td>\n",
       "      <td>2</td>\n",
       "      <td>1</td>\n",
       "      <td>24</td>\n",
       "      <td>2</td>\n",
       "      <td>2</td>\n",
       "      <td>-1</td>\n",
       "      <td>-1</td>\n",
       "      <td>-2</td>\n",
       "      <td>...</td>\n",
       "      <td>0</td>\n",
       "      <td>0</td>\n",
       "      <td>0</td>\n",
       "      <td>0</td>\n",
       "      <td>689</td>\n",
       "      <td>0</td>\n",
       "      <td>0</td>\n",
       "      <td>0</td>\n",
       "      <td>0</td>\n",
       "      <td>1</td>\n",
       "    </tr>\n",
       "    <tr>\n",
       "      <th>1</th>\n",
       "      <td>120000</td>\n",
       "      <td>2</td>\n",
       "      <td>2</td>\n",
       "      <td>2</td>\n",
       "      <td>26</td>\n",
       "      <td>-1</td>\n",
       "      <td>2</td>\n",
       "      <td>0</td>\n",
       "      <td>0</td>\n",
       "      <td>0</td>\n",
       "      <td>...</td>\n",
       "      <td>3272</td>\n",
       "      <td>3455</td>\n",
       "      <td>3261</td>\n",
       "      <td>0</td>\n",
       "      <td>1000</td>\n",
       "      <td>1000</td>\n",
       "      <td>1000</td>\n",
       "      <td>0</td>\n",
       "      <td>2000</td>\n",
       "      <td>1</td>\n",
       "    </tr>\n",
       "    <tr>\n",
       "      <th>2</th>\n",
       "      <td>90000</td>\n",
       "      <td>2</td>\n",
       "      <td>2</td>\n",
       "      <td>2</td>\n",
       "      <td>34</td>\n",
       "      <td>0</td>\n",
       "      <td>0</td>\n",
       "      <td>0</td>\n",
       "      <td>0</td>\n",
       "      <td>0</td>\n",
       "      <td>...</td>\n",
       "      <td>14331</td>\n",
       "      <td>14948</td>\n",
       "      <td>15549</td>\n",
       "      <td>1518</td>\n",
       "      <td>1500</td>\n",
       "      <td>1000</td>\n",
       "      <td>1000</td>\n",
       "      <td>1000</td>\n",
       "      <td>5000</td>\n",
       "      <td>0</td>\n",
       "    </tr>\n",
       "    <tr>\n",
       "      <th>3</th>\n",
       "      <td>50000</td>\n",
       "      <td>2</td>\n",
       "      <td>2</td>\n",
       "      <td>1</td>\n",
       "      <td>37</td>\n",
       "      <td>0</td>\n",
       "      <td>0</td>\n",
       "      <td>0</td>\n",
       "      <td>0</td>\n",
       "      <td>0</td>\n",
       "      <td>...</td>\n",
       "      <td>28314</td>\n",
       "      <td>28959</td>\n",
       "      <td>29547</td>\n",
       "      <td>2000</td>\n",
       "      <td>2019</td>\n",
       "      <td>1200</td>\n",
       "      <td>1100</td>\n",
       "      <td>1069</td>\n",
       "      <td>1000</td>\n",
       "      <td>0</td>\n",
       "    </tr>\n",
       "    <tr>\n",
       "      <th>4</th>\n",
       "      <td>50000</td>\n",
       "      <td>1</td>\n",
       "      <td>2</td>\n",
       "      <td>1</td>\n",
       "      <td>57</td>\n",
       "      <td>-1</td>\n",
       "      <td>0</td>\n",
       "      <td>-1</td>\n",
       "      <td>0</td>\n",
       "      <td>0</td>\n",
       "      <td>...</td>\n",
       "      <td>20940</td>\n",
       "      <td>19146</td>\n",
       "      <td>19131</td>\n",
       "      <td>2000</td>\n",
       "      <td>36681</td>\n",
       "      <td>10000</td>\n",
       "      <td>9000</td>\n",
       "      <td>689</td>\n",
       "      <td>679</td>\n",
       "      <td>0</td>\n",
       "    </tr>\n",
       "  </tbody>\n",
       "</table>\n",
       "<p>5 rows × 24 columns</p>\n",
       "</div>"
      ],
      "text/plain": [
       "   LIMIT_BAL  SEX  EDUCATION  MARRIAGE  AGE  PAY_0  PAY_2  PAY_3  PAY_4  \\\n",
       "0      20000    2          2         1   24      2      2     -1     -1   \n",
       "1     120000    2          2         2   26     -1      2      0      0   \n",
       "2      90000    2          2         2   34      0      0      0      0   \n",
       "3      50000    2          2         1   37      0      0      0      0   \n",
       "4      50000    1          2         1   57     -1      0     -1      0   \n",
       "\n",
       "   PAY_5  ...  BILL_AMT4  BILL_AMT5  BILL_AMT6  PAY_AMT1  PAY_AMT2  PAY_AMT3  \\\n",
       "0     -2  ...          0          0          0         0       689         0   \n",
       "1      0  ...       3272       3455       3261         0      1000      1000   \n",
       "2      0  ...      14331      14948      15549      1518      1500      1000   \n",
       "3      0  ...      28314      28959      29547      2000      2019      1200   \n",
       "4      0  ...      20940      19146      19131      2000     36681     10000   \n",
       "\n",
       "   PAY_AMT4  PAY_AMT5  PAY_AMT6  default_payment  \n",
       "0         0         0         0                1  \n",
       "1      1000         0      2000                1  \n",
       "2      1000      1000      5000                0  \n",
       "3      1100      1069      1000                0  \n",
       "4      9000       689       679                0  \n",
       "\n",
       "[5 rows x 24 columns]"
      ]
     },
     "execution_count": 75,
     "metadata": {},
     "output_type": "execute_result"
    }
   ],
   "source": [
    "train.head()"
   ]
  },
  {
   "cell_type": "code",
   "execution_count": 76,
   "metadata": {
    "collapsed": true
   },
   "outputs": [
    {
     "data": {
      "text/html": [
       "<div>\n",
       "<style scoped>\n",
       "    .dataframe tbody tr th:only-of-type {\n",
       "        vertical-align: middle;\n",
       "    }\n",
       "\n",
       "    .dataframe tbody tr th {\n",
       "        vertical-align: top;\n",
       "    }\n",
       "\n",
       "    .dataframe thead th {\n",
       "        text-align: right;\n",
       "    }\n",
       "</style>\n",
       "<table border=\"1\" class=\"dataframe\">\n",
       "  <thead>\n",
       "    <tr style=\"text-align: right;\">\n",
       "      <th></th>\n",
       "      <th>LIMIT_BAL</th>\n",
       "      <th>SEX</th>\n",
       "      <th>EDUCATION</th>\n",
       "      <th>MARRIAGE</th>\n",
       "      <th>AGE</th>\n",
       "      <th>PAY_0</th>\n",
       "      <th>PAY_2</th>\n",
       "      <th>PAY_3</th>\n",
       "      <th>PAY_4</th>\n",
       "      <th>PAY_5</th>\n",
       "      <th>...</th>\n",
       "      <th>BILL_AMT3</th>\n",
       "      <th>BILL_AMT4</th>\n",
       "      <th>BILL_AMT5</th>\n",
       "      <th>BILL_AMT6</th>\n",
       "      <th>PAY_AMT1</th>\n",
       "      <th>PAY_AMT2</th>\n",
       "      <th>PAY_AMT3</th>\n",
       "      <th>PAY_AMT4</th>\n",
       "      <th>PAY_AMT5</th>\n",
       "      <th>PAY_AMT6</th>\n",
       "    </tr>\n",
       "  </thead>\n",
       "  <tbody>\n",
       "    <tr>\n",
       "      <th>0</th>\n",
       "      <td>70000</td>\n",
       "      <td>2</td>\n",
       "      <td>2</td>\n",
       "      <td>2</td>\n",
       "      <td>26</td>\n",
       "      <td>2</td>\n",
       "      <td>0</td>\n",
       "      <td>0</td>\n",
       "      <td>2</td>\n",
       "      <td>2</td>\n",
       "      <td>...</td>\n",
       "      <td>45020</td>\n",
       "      <td>44006</td>\n",
       "      <td>46905</td>\n",
       "      <td>46012</td>\n",
       "      <td>2007</td>\n",
       "      <td>3582</td>\n",
       "      <td>0</td>\n",
       "      <td>3601</td>\n",
       "      <td>0</td>\n",
       "      <td>1820</td>\n",
       "    </tr>\n",
       "    <tr>\n",
       "      <th>1</th>\n",
       "      <td>230000</td>\n",
       "      <td>2</td>\n",
       "      <td>1</td>\n",
       "      <td>2</td>\n",
       "      <td>27</td>\n",
       "      <td>-1</td>\n",
       "      <td>-1</td>\n",
       "      <td>-1</td>\n",
       "      <td>-1</td>\n",
       "      <td>-1</td>\n",
       "      <td>...</td>\n",
       "      <td>13266</td>\n",
       "      <td>15339</td>\n",
       "      <td>14307</td>\n",
       "      <td>36923</td>\n",
       "      <td>17270</td>\n",
       "      <td>13281</td>\n",
       "      <td>15339</td>\n",
       "      <td>14307</td>\n",
       "      <td>37292</td>\n",
       "      <td>0</td>\n",
       "    </tr>\n",
       "    <tr>\n",
       "      <th>2</th>\n",
       "      <td>50000</td>\n",
       "      <td>1</td>\n",
       "      <td>2</td>\n",
       "      <td>2</td>\n",
       "      <td>33</td>\n",
       "      <td>2</td>\n",
       "      <td>0</td>\n",
       "      <td>0</td>\n",
       "      <td>0</td>\n",
       "      <td>0</td>\n",
       "      <td>...</td>\n",
       "      <td>22102</td>\n",
       "      <td>22734</td>\n",
       "      <td>23217</td>\n",
       "      <td>23680</td>\n",
       "      <td>1718</td>\n",
       "      <td>1500</td>\n",
       "      <td>1000</td>\n",
       "      <td>1000</td>\n",
       "      <td>1000</td>\n",
       "      <td>716</td>\n",
       "    </tr>\n",
       "    <tr>\n",
       "      <th>3</th>\n",
       "      <td>50000</td>\n",
       "      <td>1</td>\n",
       "      <td>1</td>\n",
       "      <td>2</td>\n",
       "      <td>29</td>\n",
       "      <td>2</td>\n",
       "      <td>2</td>\n",
       "      <td>2</td>\n",
       "      <td>2</td>\n",
       "      <td>2</td>\n",
       "      <td>...</td>\n",
       "      <td>26591</td>\n",
       "      <td>25865</td>\n",
       "      <td>27667</td>\n",
       "      <td>28264</td>\n",
       "      <td>0</td>\n",
       "      <td>2700</td>\n",
       "      <td>0</td>\n",
       "      <td>2225</td>\n",
       "      <td>1200</td>\n",
       "      <td>0</td>\n",
       "    </tr>\n",
       "    <tr>\n",
       "      <th>4</th>\n",
       "      <td>10000</td>\n",
       "      <td>1</td>\n",
       "      <td>2</td>\n",
       "      <td>1</td>\n",
       "      <td>56</td>\n",
       "      <td>2</td>\n",
       "      <td>2</td>\n",
       "      <td>2</td>\n",
       "      <td>0</td>\n",
       "      <td>0</td>\n",
       "      <td>...</td>\n",
       "      <td>3978</td>\n",
       "      <td>4062</td>\n",
       "      <td>4196</td>\n",
       "      <td>4326</td>\n",
       "      <td>2300</td>\n",
       "      <td>0</td>\n",
       "      <td>150</td>\n",
       "      <td>200</td>\n",
       "      <td>200</td>\n",
       "      <td>160</td>\n",
       "    </tr>\n",
       "  </tbody>\n",
       "</table>\n",
       "<p>5 rows × 23 columns</p>\n",
       "</div>"
      ],
      "text/plain": [
       "   LIMIT_BAL  SEX  EDUCATION  MARRIAGE  AGE  PAY_0  PAY_2  PAY_3  PAY_4  \\\n",
       "0      70000    2          2         2   26      2      0      0      2   \n",
       "1     230000    2          1         2   27     -1     -1     -1     -1   \n",
       "2      50000    1          2         2   33      2      0      0      0   \n",
       "3      50000    1          1         2   29      2      2      2      2   \n",
       "4      10000    1          2         1   56      2      2      2      0   \n",
       "\n",
       "   PAY_5  ...  BILL_AMT3  BILL_AMT4  BILL_AMT5  BILL_AMT6  PAY_AMT1  PAY_AMT2  \\\n",
       "0      2  ...      45020      44006      46905      46012      2007      3582   \n",
       "1     -1  ...      13266      15339      14307      36923     17270     13281   \n",
       "2      0  ...      22102      22734      23217      23680      1718      1500   \n",
       "3      2  ...      26591      25865      27667      28264         0      2700   \n",
       "4      0  ...       3978       4062       4196       4326      2300         0   \n",
       "\n",
       "   PAY_AMT3  PAY_AMT4  PAY_AMT5  PAY_AMT6  \n",
       "0         0      3601         0      1820  \n",
       "1     15339     14307     37292         0  \n",
       "2      1000      1000      1000       716  \n",
       "3         0      2225      1200         0  \n",
       "4       150       200       200       160  \n",
       "\n",
       "[5 rows x 23 columns]"
      ]
     },
     "execution_count": 76,
     "metadata": {},
     "output_type": "execute_result"
    }
   ],
   "source": [
    "test.head()"
   ]
  },
  {
   "cell_type": "code",
   "execution_count": 77,
   "metadata": {},
   "outputs": [
    {
     "data": {
      "text/plain": [
       "True"
      ]
     },
     "execution_count": 77,
     "metadata": {},
     "output_type": "execute_result"
    }
   ],
   "source": [
    "all(train.columns[:-1] == test.columns)"
   ]
  },
  {
   "cell_type": "code",
   "execution_count": 78,
   "metadata": {
    "scrolled": true
   },
   "outputs": [
    {
     "name": "stdout",
     "output_type": "stream",
     "text": [
      "LIMIT_BAL          0\n",
      "SEX                0\n",
      "EDUCATION          0\n",
      "MARRIAGE           0\n",
      "AGE                0\n",
      "PAY_0              0\n",
      "PAY_2              0\n",
      "PAY_3              0\n",
      "PAY_4              0\n",
      "PAY_5              0\n",
      "PAY_6              0\n",
      "BILL_AMT1          0\n",
      "BILL_AMT2          0\n",
      "BILL_AMT3          0\n",
      "BILL_AMT4          0\n",
      "BILL_AMT5          0\n",
      "BILL_AMT6          0\n",
      "PAY_AMT1           0\n",
      "PAY_AMT2           0\n",
      "PAY_AMT3           0\n",
      "PAY_AMT4           0\n",
      "PAY_AMT5           0\n",
      "PAY_AMT6           0\n",
      "default_payment    0\n",
      "dtype: int64 \n",
      "\n",
      "LIMIT_BAL    0\n",
      "SEX          0\n",
      "EDUCATION    0\n",
      "MARRIAGE     0\n",
      "AGE          0\n",
      "PAY_0        0\n",
      "PAY_2        0\n",
      "PAY_3        0\n",
      "PAY_4        0\n",
      "PAY_5        0\n",
      "PAY_6        0\n",
      "BILL_AMT1    0\n",
      "BILL_AMT2    0\n",
      "BILL_AMT3    0\n",
      "BILL_AMT4    0\n",
      "BILL_AMT5    0\n",
      "BILL_AMT6    0\n",
      "PAY_AMT1     0\n",
      "PAY_AMT2     0\n",
      "PAY_AMT3     0\n",
      "PAY_AMT4     0\n",
      "PAY_AMT5     0\n",
      "PAY_AMT6     0\n",
      "dtype: int64\n"
     ]
    }
   ],
   "source": [
    "print(train.isnull().sum(),'\\n')\n",
    "print(test.isnull().sum())"
   ]
  },
  {
   "cell_type": "code",
   "execution_count": 80,
   "metadata": {},
   "outputs": [
    {
     "data": {
      "text/plain": [
       "0    21219\n",
       "1     6058\n",
       "Name: default_payment, dtype: int64"
      ]
     },
     "execution_count": 80,
     "metadata": {},
     "output_type": "execute_result"
    }
   ],
   "source": [
    "#Dados desbalanceados\n",
    "train['default_payment'].value_counts()"
   ]
  },
  {
   "cell_type": "markdown",
   "metadata": {},
   "source": [
    "# 2 - Tratamento de variáveis"
   ]
  },
  {
   "cell_type": "code",
   "execution_count": 81,
   "metadata": {},
   "outputs": [],
   "source": [
    "# Categóricas\n",
    "categorical = ['SEX','EDUCATION','MARRIAGE']\n",
    "\n",
    "train_cat = pd.concat([pd.get_dummies(train[categorical[0]],prefix=categorical[0]), \n",
    "                     pd.get_dummies(train[categorical[1]],prefix=categorical[1]),\n",
    "                     pd.get_dummies(train[categorical[2]],prefix=categorical[2])\n",
    "                        ],axis=1)\n",
    "\n",
    "test_cat = pd.concat([pd.get_dummies(test[categorical[0]],prefix=categorical[0]), \n",
    "                     pd.get_dummies(test[categorical[1]],prefix=categorical[1]),\n",
    "                     pd.get_dummies(test[categorical[2]],prefix=categorical[2])\n",
    "                        ],axis=1)"
   ]
  },
  {
   "cell_type": "code",
   "execution_count": 82,
   "metadata": {},
   "outputs": [
    {
     "data": {
      "text/plain": [
       "True"
      ]
     },
     "execution_count": 82,
     "metadata": {},
     "output_type": "execute_result"
    }
   ],
   "source": [
    "all(train_cat.columns == test_cat.columns) "
   ]
  },
  {
   "cell_type": "code",
   "execution_count": 83,
   "metadata": {},
   "outputs": [],
   "source": [
    "#Numéricas\n",
    "numerical = set(test.columns) - set(categorical)\n",
    "\n",
    "train_num,test_num = train[numerical],test[numerical]"
   ]
  },
  {
   "cell_type": "code",
   "execution_count": 84,
   "metadata": {},
   "outputs": [],
   "source": [
    "scaler = StandardScaler()\n",
    "train_num = scaler.fit_transform(train_num)\n",
    "test_num = scaler.transform(test_num)\n",
    "\n",
    "train_num = pd.DataFrame(train_num,columns = numerical,index = train.index)\n",
    "test_num = pd.DataFrame(test_num,columns = numerical,index = test.index)"
   ]
  },
  {
   "cell_type": "markdown",
   "metadata": {},
   "source": [
    "# 3 - Oversampling e divisão treino/teste "
   ]
  },
  {
   "cell_type": "code",
   "execution_count": 85,
   "metadata": {},
   "outputs": [],
   "source": [
    "X = pd.concat([train_cat,train_num],axis=1)\n",
    "y = train['default_payment']"
   ]
  },
  {
   "cell_type": "code",
   "execution_count": null,
   "metadata": {},
   "outputs": [],
   "source": [
    "over_sampler = RandomOverSampler(random_state=42)\n",
    "X_res, y_res = over_sampler.fit_resample(X, y)"
   ]
  },
  {
   "cell_type": "code",
   "execution_count": 86,
   "metadata": {},
   "outputs": [
    {
     "data": {
      "text/plain": [
       "1    21219\n",
       "0    21219\n",
       "Name: default_payment, dtype: int64"
      ]
     },
     "execution_count": 86,
     "metadata": {},
     "output_type": "execute_result"
    }
   ],
   "source": [
    "y_res.value_counts()"
   ]
  },
  {
   "cell_type": "code",
   "execution_count": 87,
   "metadata": {},
   "outputs": [],
   "source": [
    "X_train, X_test, y_train, y_test = train_test_split(X_res, y_res, test_size=0.33, random_state=42)"
   ]
  },
  {
   "cell_type": "markdown",
   "metadata": {},
   "source": [
    "# 4 - Performances de modelos de classificação"
   ]
  },
  {
   "cell_type": "code",
   "execution_count": 88,
   "metadata": {},
   "outputs": [],
   "source": [
    "dict_classifiers = {\"Floresta Aleatória\": RandomForestClassifier(random_state=0),\n",
    "    \"Vizinhos mais próximos\": KNeighborsClassifier(),\n",
    "    \"Regressão Logística\": LogisticRegression(solver = \"liblinear\",random_state=0),\n",
    "    \"Gradient Boosting\": GradientBoostingClassifier(random_state=0),\n",
    "    \"Ada Boost\": AdaBoostClassifier(),\n",
    "    \"SVM Linear\": LinearSVC(dual=False,random_state=0),\n",
    "    \"SVM\": SVC(probability=True,random_state=0)\n",
    "}\n",
    "\n",
    "classifiers_names = list(dict_classifiers.keys())\n",
    "classifiers_values=list(dict_classifiers.values())\n"
   ]
  },
  {
   "cell_type": "code",
   "execution_count": 89,
   "metadata": {},
   "outputs": [],
   "source": [
    "def train_model(model):\n",
    "    t0 = time.time()\n",
    "    model.fit(X_train,y_train)\n",
    "    print(f'Treinou em {time.time()-t0:.3f} segundos ')\n",
    "    \n",
    "    pred = model.predict(X_test)\n",
    "    f1_0,f1_1 = f1_score(y_test,pred,average=None)\n",
    "    print(f\"f1_0 = {f1_0}\\nf1_1 = {f1_1}\\n\")"
   ]
  },
  {
   "cell_type": "code",
   "execution_count": 90,
   "metadata": {
    "scrolled": true
   },
   "outputs": [
    {
     "name": "stdout",
     "output_type": "stream",
     "text": [
      "------------------Floresta Aleatória------------------\n",
      "Treinou em 5.188 segundos \n",
      "f1_0 = 0.9185672514619884\n",
      "f1_1 = 0.9222609909281229\n",
      "\n",
      "------------------Vizinhos mais próximos------------------\n",
      "Treinou em 0.125 segundos \n",
      "f1_0 = 0.7237133899212358\n",
      "f1_1 = 0.7580526351034621\n",
      "\n",
      "------------------Regressão Logística------------------\n",
      "Treinou em 0.337 segundos \n",
      "f1_0 = 0.6884537662880635\n",
      "f1_1 = 0.6726700344095468\n",
      "\n",
      "------------------Gradient Boosting------------------\n",
      "Treinou em 9.445 segundos \n",
      "f1_0 = 0.7494371606409747\n",
      "f1_1 = 0.706848466067555\n",
      "\n",
      "------------------Ada Boost------------------\n",
      "Treinou em 2.142 segundos \n",
      "f1_0 = 0.7416365428853104\n",
      "f1_1 = 0.6927706135209066\n",
      "\n",
      "------------------SVM Linear------------------\n",
      "Treinou em 0.418 segundos \n",
      "f1_0 = 0.692520011040574\n",
      "f1_1 = 0.6703654386743602\n",
      "\n",
      "------------------SVM------------------\n",
      "Treinou em 333.820 segundos \n",
      "f1_0 = 0.7519763480943505\n",
      "f1_1 = 0.6900650550156614\n",
      "\n"
     ]
    }
   ],
   "source": [
    "for key,value in zip(classifiers_names,classifiers_values):\n",
    "    print('--'*9+f'{key}'+'--'*9)\n",
    "    train_model(value)"
   ]
  },
  {
   "cell_type": "markdown",
   "metadata": {},
   "source": [
    "# 5 - Floresta Aleatória"
   ]
  },
  {
   "cell_type": "code",
   "execution_count": 91,
   "metadata": {},
   "outputs": [],
   "source": [
    "model = RandomForestClassifier(random_state=0)\n",
    "model.fit(X_train,y_train)\n",
    "pred = model.predict(X_test)"
   ]
  },
  {
   "cell_type": "code",
   "execution_count": 92,
   "metadata": {},
   "outputs": [
    {
     "name": "stdout",
     "output_type": "stream",
     "text": [
      "              precision    recall  f1-score   support\n",
      "\n",
      "           0       0.94      0.89      0.92      7030\n",
      "           1       0.90      0.95      0.92      6975\n",
      "\n",
      "    accuracy                           0.92     14005\n",
      "   macro avg       0.92      0.92      0.92     14005\n",
      "weighted avg       0.92      0.92      0.92     14005\n",
      "\n"
     ]
    }
   ],
   "source": [
    "print(classification_report(y_test,pred))"
   ]
  },
  {
   "cell_type": "code",
   "execution_count": 96,
   "metadata": {},
   "outputs": [
    {
     "data": {
      "text/plain": [
       "array([0, 1])"
      ]
     },
     "execution_count": 96,
     "metadata": {},
     "output_type": "execute_result"
    }
   ],
   "source": [
    "model.classes_\n",
    "# ou seja, classe 0 será a coluna 0 e classe 1 a coluna 1 de prob"
   ]
  },
  {
   "cell_type": "markdown",
   "metadata": {},
   "source": [
    "# 6 - Clientes mais inadimplentes"
   ]
  },
  {
   "cell_type": "code",
   "execution_count": 93,
   "metadata": {},
   "outputs": [],
   "source": [
    "#test_cat e test_num vêm do \"questao22_creditcard_clientes.csv\"\n",
    "Xtest = pd.concat([test_cat,test_num],axis=1)"
   ]
  },
  {
   "cell_type": "code",
   "execution_count": 94,
   "metadata": {},
   "outputs": [],
   "source": [
    "pred = model.predict(Xtest)\n",
    "prob = model.predict_proba(Xtest)"
   ]
  },
  {
   "cell_type": "code",
   "execution_count": 97,
   "metadata": {},
   "outputs": [],
   "source": [
    "#Não pagar = 0\n",
    "\n",
    "prob0 = pd.DataFrame(prob[:,0],columns=['Probabilidade de não pagar as próximas faturas'],index=Xtest.index)\n",
    "prob0 = prob0.sort_values(by='Probabilidade de não pagar as próximas faturas',ascending=False)"
   ]
  },
  {
   "cell_type": "code",
   "execution_count": 104,
   "metadata": {},
   "outputs": [
    {
     "data": {
      "text/html": [
       "<div>\n",
       "<style scoped>\n",
       "    .dataframe tbody tr th:only-of-type {\n",
       "        vertical-align: middle;\n",
       "    }\n",
       "\n",
       "    .dataframe tbody tr th {\n",
       "        vertical-align: top;\n",
       "    }\n",
       "\n",
       "    .dataframe thead th {\n",
       "        text-align: right;\n",
       "    }\n",
       "</style>\n",
       "<table border=\"1\" class=\"dataframe\">\n",
       "  <thead>\n",
       "    <tr style=\"text-align: right;\">\n",
       "      <th></th>\n",
       "      <th>Probabilidade de não pagar as próximas faturas</th>\n",
       "    </tr>\n",
       "  </thead>\n",
       "  <tbody>\n",
       "    <tr>\n",
       "      <th>285</th>\n",
       "      <td>1.00</td>\n",
       "    </tr>\n",
       "    <tr>\n",
       "      <th>594</th>\n",
       "      <td>1.00</td>\n",
       "    </tr>\n",
       "    <tr>\n",
       "      <th>1891</th>\n",
       "      <td>1.00</td>\n",
       "    </tr>\n",
       "    <tr>\n",
       "      <th>2512</th>\n",
       "      <td>0.99</td>\n",
       "    </tr>\n",
       "    <tr>\n",
       "      <th>1754</th>\n",
       "      <td>0.99</td>\n",
       "    </tr>\n",
       "    <tr>\n",
       "      <th>...</th>\n",
       "      <td>...</td>\n",
       "    </tr>\n",
       "    <tr>\n",
       "      <th>753</th>\n",
       "      <td>0.91</td>\n",
       "    </tr>\n",
       "    <tr>\n",
       "      <th>684</th>\n",
       "      <td>0.91</td>\n",
       "    </tr>\n",
       "    <tr>\n",
       "      <th>1237</th>\n",
       "      <td>0.91</td>\n",
       "    </tr>\n",
       "    <tr>\n",
       "      <th>1608</th>\n",
       "      <td>0.91</td>\n",
       "    </tr>\n",
       "    <tr>\n",
       "      <th>878</th>\n",
       "      <td>0.91</td>\n",
       "    </tr>\n",
       "  </tbody>\n",
       "</table>\n",
       "<p>272 rows × 1 columns</p>\n",
       "</div>"
      ],
      "text/plain": [
       "      Probabilidade de não pagar as próximas faturas\n",
       "285                                             1.00\n",
       "594                                             1.00\n",
       "1891                                            1.00\n",
       "2512                                            0.99\n",
       "1754                                            0.99\n",
       "...                                              ...\n",
       "753                                             0.91\n",
       "684                                             0.91\n",
       "1237                                            0.91\n",
       "1608                                            0.91\n",
       "878                                             0.91\n",
       "\n",
       "[272 rows x 1 columns]"
      ]
     },
     "execution_count": 104,
     "metadata": {},
     "output_type": "execute_result"
    }
   ],
   "source": [
    "#10% de clientes com maior probabilidade de não pagar as próximas faturas.\n",
    "percent = int(Xtest.shape[0] * 0.10)\n",
    "prob0.head(percent)"
   ]
  },
  {
   "cell_type": "markdown",
   "metadata": {},
   "source": [
    "# 7 - Resposta 2.2"
   ]
  },
  {
   "cell_type": "code",
   "execution_count": 99,
   "metadata": {},
   "outputs": [
    {
     "name": "stdout",
     "output_type": "stream",
     "text": [
      "Clientes que será enviada comunicação:\n",
      " [285, 594, 1891, 2512, 1754, 1303, 1069, 2615, 1399, 68, 865, 1777, 1814, 1077, 169, 2533, 1947, 210, 1442, 1436, 2068, 1389, 2248, 282, 2310, 35, 1982, 1270, 2112, 2117, 2061, 2459, 2079, 79, 2660, 2096, 1790, 485, 2111, 2628, 1063, 527, 257, 2335, 2309, 1683, 1744, 383, 863, 902, 1243, 108, 2455, 1686, 135, 913, 1752, 742, 1765, 1576, 569, 2523, 702, 1972, 843, 274, 449, 2364, 2428, 2095, 497, 2225, 2188, 2708, 2059, 2640, 215, 2540, 281, 129, 391, 804, 347, 314, 766, 1751, 140, 113, 778, 535, 470, 734, 1784, 234, 2080, 1803, 699, 2488, 1808, 645, 1908, 1913, 184, 1948, 610, 482, 305, 1388, 1480, 1432, 97, 1103, 1654, 874, 2605, 1005, 911, 957, 1101, 1400, 318, 2060, 2304, 266, 2355, 1791, 2345, 163, 1489, 287, 332, 1810, 2002, 2342, 1836, 1837, 1860, 657, 1875, 2686, 17, 181, 2443, 315, 1189, 2179, 1070, 831, 23, 36, 1263, 1294, 2108, 1181, 2556, 779, 249, 455, 2199, 2529, 370, 1309, 765, 1106, 1598, 2368, 255, 2223, 1128, 2446, 2078, 1330, 588, 1060, 556, 371, 1037, 1025, 233, 1427, 2620, 517, 2063, 2074, 1447, 1207, 39, 1149, 1753, 2307, 733, 725, 777, 83, 708, 802, 320, 2581, 632, 1892, 849, 2315, 1272, 109, 2563, 1199, 2577, 1085, 2528, 873, 112, 1646, 1131, 237, 1726, 2169, 1709, 1640, 1310, 856, 898, 814, 855, 1645, 2557, 435, 461, 2470, 1229, 2036, 2289, 622, 2351, 1463, 618, 2603, 1967, 1855, 583, 1122, 264, 2400, 1080, 2584, 2278, 2606, 2055, 1168, 724, 1555, 2583, 1922, 2284, 2290, 1074, 340, 2271, 1084, 846, 418, 1763, 1483, 937, 1548, 717, 1232, 2318, 753, 684, 1237, 1608, 878]\n"
     ]
    }
   ],
   "source": [
    "print('Clientes que será enviada comunicação:\\n',list(prob0.index[:percent]))"
   ]
  },
  {
   "cell_type": "code",
   "execution_count": 100,
   "metadata": {},
   "outputs": [],
   "source": [
    "prob0.to_csv('prob_clientes.csv',index_label='Cliente')"
   ]
  },
  {
   "cell_type": "code",
   "execution_count": null,
   "metadata": {},
   "outputs": [],
   "source": []
  }
 ],
 "metadata": {
  "kernelspec": {
   "display_name": "Python 3",
   "language": "python",
   "name": "python3"
  },
  "language_info": {
   "codemirror_mode": {
    "name": "ipython",
    "version": 3
   },
   "file_extension": ".py",
   "mimetype": "text/x-python",
   "name": "python",
   "nbconvert_exporter": "python",
   "pygments_lexer": "ipython3",
   "version": "3.7.6"
  }
 },
 "nbformat": 4,
 "nbformat_minor": 4
}
